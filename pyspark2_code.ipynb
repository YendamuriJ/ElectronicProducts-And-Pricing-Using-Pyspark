{
  "nbformat": 4,
  "nbformat_minor": 0,
  "metadata": {
    "colab": {
      "name": "Untitled1.ipynb",
      "provenance": [],
      "collapsed_sections": []
    },
    "kernelspec": {
      "name": "python3",
      "display_name": "Python 3"
    },
    "language_info": {
      "name": "python"
    }
  },
  "cells": [
    {
      "cell_type": "code",
      "metadata": {
        "id": "i1LwBBXZTTHs"
      },
      "source": [
        "# innstall java\n",
        "!apt-get install openjdk-8-jdk-headless -qq > /dev/null\n",
        "\n",
        "# install spark (change the version number if needed)\n",
        "!wget -q https://archive.apache.org/dist/spark/spark-3.0.0/spark-3.0.0-bin-hadoop3.2.tgz\n",
        "\n",
        "# unzip the spark file to the current folder\n",
        "!tar xf spark-3.0.0-bin-hadoop3.2.tgz\n",
        "\n",
        "# set your spark folder to your system path environment. \n",
        "import os\n",
        "os.environ[\"JAVA_HOME\"] = \"/usr/lib/jvm/java-8-openjdk-amd64\"\n",
        "os.environ[\"SPARK_HOME\"] = \"/content/spark-3.0.0-bin-hadoop3.2\"\n",
        "\n",
        "\n",
        "# install findspark using pip\n",
        "!pip install -q findspark"
      ],
      "execution_count": 1,
      "outputs": []
    },
    {
      "cell_type": "code",
      "metadata": {
        "colab": {
          "base_uri": "https://localhost:8080/"
        },
        "id": "h2OnnAPxTVV3",
        "outputId": "fc8710a8-d3b1-4dcb-a297-2987809fe21d"
      },
      "source": [
        "! pip install pyspark"
      ],
      "execution_count": 2,
      "outputs": [
        {
          "output_type": "stream",
          "text": [
            "Collecting pyspark\n",
            "\u001b[?25l  Downloading https://files.pythonhosted.org/packages/89/db/e18cfd78e408de957821ec5ca56de1250645b05f8523d169803d8df35a64/pyspark-3.1.2.tar.gz (212.4MB)\n",
            "\u001b[K     |████████████████████████████████| 212.4MB 62kB/s \n",
            "\u001b[?25hCollecting py4j==0.10.9\n",
            "\u001b[?25l  Downloading https://files.pythonhosted.org/packages/9e/b6/6a4fb90cd235dc8e265a6a2067f2a2c99f0d91787f06aca4bcf7c23f3f80/py4j-0.10.9-py2.py3-none-any.whl (198kB)\n",
            "\u001b[K     |████████████████████████████████| 204kB 17.8MB/s \n",
            "\u001b[?25hBuilding wheels for collected packages: pyspark\n",
            "  Building wheel for pyspark (setup.py) ... \u001b[?25l\u001b[?25hdone\n",
            "  Created wheel for pyspark: filename=pyspark-3.1.2-py2.py3-none-any.whl size=212880768 sha256=123030a299c50e58b6bca59dfee8271a9f26f7877d620cd1b74321189a3ec83f\n",
            "  Stored in directory: /root/.cache/pip/wheels/40/1b/2c/30f43be2627857ab80062bef1527c0128f7b4070b6b2d02139\n",
            "Successfully built pyspark\n",
            "Installing collected packages: py4j, pyspark\n",
            "Successfully installed py4j-0.10.9 pyspark-3.1.2\n"
          ],
          "name": "stdout"
        }
      ]
    },
    {
      "cell_type": "code",
      "metadata": {
        "id": "WNousS4uTppu"
      },
      "source": [
        "import findspark\n",
        "findspark.init()"
      ],
      "execution_count": 3,
      "outputs": []
    },
    {
      "cell_type": "code",
      "metadata": {
        "colab": {
          "base_uri": "https://localhost:8080/",
          "height": 35
        },
        "id": "yLVek3pWTtID",
        "outputId": "261bc0e9-3196-45af-dbc5-e0ecef12bd6e"
      },
      "source": [
        "findspark.find()"
      ],
      "execution_count": 4,
      "outputs": [
        {
          "output_type": "execute_result",
          "data": {
            "application/vnd.google.colaboratory.intrinsic+json": {
              "type": "string"
            },
            "text/plain": [
              "'/content/spark-3.0.0-bin-hadoop3.2'"
            ]
          },
          "metadata": {
            "tags": []
          },
          "execution_count": 4
        }
      ]
    },
    {
      "cell_type": "code",
      "metadata": {
        "id": "xHqpCnb5TwHp"
      },
      "source": [
        "from pyspark.sql import SparkSession\n",
        "spark = SparkSession.builder.master(\"local[*]\").getOrCreate()"
      ],
      "execution_count": 5,
      "outputs": []
    },
    {
      "cell_type": "code",
      "metadata": {
        "colab": {
          "base_uri": "https://localhost:8080/"
        },
        "id": "QtH1E9gtTyq-",
        "outputId": "d29383af-a9bb-4906-d486-8fd0fa7a4ff9"
      },
      "source": [
        "# Load the data file into a Spark DataFrame\n",
        "df = spark.read.format(\"csv\").option(\"header\", \"true\").option(\"nullValue\",\"N/A\").option(\"inferSchema\", \"true\").load(\"DatafinitiElectronicsProductsPricingData.csv\")\n",
        "df.show(5)"
      ],
      "execution_count": 106,
      "outputs": [
        {
          "output_type": "stream",
          "text": [
            "+--------------------+----------------+----------------+-------------------+----------------+---------------+--------------------+-------------+---------------+---------------+--------------------+--------------------+-------+--------------------+--------------------+--------------------+----+--------------------+--------------------+------------+------------------+--------------------+-----------------+--------------------+-----------+-----------+----+----+----+----+----+\n",
            "|                  id|prices.amountMax|prices.amountMin|prices.availability|prices.condition|prices.currency|     prices.dateSeen|prices.isSale|prices.merchant|prices.shipping|   prices.sourceURLs|               asins|  brand|          categories|           dateAdded|         dateUpdated| ean|           imageURLs|                keys|manufacturer|manufacturerNumber|                name|primaryCategories|          sourceURLs|        upc|     weight|_c26|_c27|_c28|_c29|_c30|\n",
            "+--------------------+----------------+----------------+-------------------+----------------+---------------+--------------------+-------------+---------------+---------------+--------------------+--------------------+-------+--------------------+--------------------+--------------------+----+--------------------+--------------------+------------+------------------+--------------------+-----------------+--------------------+-----------+-----------+----+----+----+----+----+\n",
            "|AVphzgbJLJeJML43fA0o|          104.99|          104.99|                Yes|             New|            USD|2017-03-30T06:00:...|        FALSE|    Bestbuy.com|           null|http://www.bestbu...|          B00C78VIUE|  Sanus|Audio & Video Acc...|2015-04-13T12:00:51Z|2018-05-12T18:59:48Z|null|https://images-na...|sanusvlf410b110in...|        null|          VLF410B1|Sanus VLF410B1 10...|      Electronics|https://www.amazo...|7.93796E+11|32.8 pounds|null|null|null|null|null|\n",
            "|AVpgMuGwLJeJML43KY_c|            69.0|           64.99|           In Stock|             New|            USD|2017-12-14T06:00:00Z|         TRUE|    Walmart.com|      Expedited|https://www.walma...|B018K251JE,B00VIL...|Boytone|Stereos,Portable ...|2015-05-18T14:14:56Z|2018-06-13T19:39:02Z|null|https://images-na...|boytone2500w21chh...|     Boytone|           BT-210F|Boytone - 2500W 2...|      Electronics|http://reviews.be...|6.42015E+11|  14 pounds|null|null|null|null|null|\n",
            "|AVpgMuGwLJeJML43KY_c|            69.0|            69.0|           In Stock|             New|            USD|2017-09-08T05:00:00Z|        FALSE|    Walmart.com|      Expedited|https://www.walma...|B018K251JE,B00VIL...|Boytone|Stereos,Portable ...|2015-05-18T14:14:56Z|2018-06-13T19:39:02Z|null|https://images-na...|boytone2500w21chh...|     Boytone|           BT-210F|Boytone - 2500W 2...|      Electronics|http://reviews.be...|6.42015E+11|  14 pounds|null|null|null|null|null|\n",
            "|AVpgMuGwLJeJML43KY_c|           69.99|           69.99|                Yes|             New|            USD|2017-10-10T05:00:00Z|        FALSE|    Bestbuy.com|           null|https://www.bestb...|B018K251JE,B00VIL...|Boytone|Stereos,Portable ...|2015-05-18T14:14:56Z|2018-06-13T19:39:02Z|null|https://images-na...|boytone2500w21chh...|     Boytone|           BT-210F|Boytone - 2500W 2...|      Electronics|http://reviews.be...|6.42015E+11|  14 pounds|null|null|null|null|null|\n",
            "|AVpgMuGwLJeJML43KY_c|           66.99|           66.99|                Yes|             New|            USD|2017-08-28T07:00:00Z|        FALSE|    Bestbuy.com|           null|https://www.bestb...|B018K251JE,B00VIL...|Boytone|Stereos,Portable ...|2015-05-18T14:14:56Z|2018-06-13T19:39:02Z|null|https://images-na...|boytone2500w21chh...|     Boytone|           BT-210F|Boytone - 2500W 2...|      Electronics|http://reviews.be...|6.42015E+11|  14 pounds|null|null|null|null|null|\n",
            "+--------------------+----------------+----------------+-------------------+----------------+---------------+--------------------+-------------+---------------+---------------+--------------------+--------------------+-------+--------------------+--------------------+--------------------+----+--------------------+--------------------+------------+------------------+--------------------+-----------------+--------------------+-----------+-----------+----+----+----+----+----+\n",
            "only showing top 5 rows\n",
            "\n"
          ],
          "name": "stdout"
        }
      ]
    },
    {
      "cell_type": "code",
      "metadata": {
        "colab": {
          "base_uri": "https://localhost:8080/"
        },
        "id": "D7OYhxD2Z0bv",
        "outputId": "2833d1cb-9048-41dc-d16c-8bbd83ac9abc"
      },
      "source": [
        "df.columns"
      ],
      "execution_count": 107,
      "outputs": [
        {
          "output_type": "execute_result",
          "data": {
            "text/plain": [
              "['id',\n",
              " 'prices.amountMax',\n",
              " 'prices.amountMin',\n",
              " 'prices.availability',\n",
              " 'prices.condition',\n",
              " 'prices.currency',\n",
              " 'prices.dateSeen',\n",
              " 'prices.isSale',\n",
              " 'prices.merchant',\n",
              " 'prices.shipping',\n",
              " 'prices.sourceURLs',\n",
              " 'asins',\n",
              " 'brand',\n",
              " 'categories',\n",
              " 'dateAdded',\n",
              " 'dateUpdated',\n",
              " 'ean',\n",
              " 'imageURLs',\n",
              " 'keys',\n",
              " 'manufacturer',\n",
              " 'manufacturerNumber',\n",
              " 'name',\n",
              " 'primaryCategories',\n",
              " 'sourceURLs',\n",
              " 'upc',\n",
              " 'weight',\n",
              " '_c26',\n",
              " '_c27',\n",
              " '_c28',\n",
              " '_c29',\n",
              " '_c30']"
            ]
          },
          "metadata": {
            "tags": []
          },
          "execution_count": 107
        }
      ]
    },
    {
      "cell_type": "code",
      "metadata": {
        "colab": {
          "base_uri": "https://localhost:8080/"
        },
        "id": "pddTwJDiZ6zC",
        "outputId": "fe3f39d6-6105-4433-b9f1-91de84add0de"
      },
      "source": [
        "df.printSchema()"
      ],
      "execution_count": 108,
      "outputs": [
        {
          "output_type": "stream",
          "text": [
            "root\n",
            " |-- id: string (nullable = true)\n",
            " |-- prices.amountMax: double (nullable = true)\n",
            " |-- prices.amountMin: double (nullable = true)\n",
            " |-- prices.availability: string (nullable = true)\n",
            " |-- prices.condition: string (nullable = true)\n",
            " |-- prices.currency: string (nullable = true)\n",
            " |-- prices.dateSeen: string (nullable = true)\n",
            " |-- prices.isSale: string (nullable = true)\n",
            " |-- prices.merchant: string (nullable = true)\n",
            " |-- prices.shipping: string (nullable = true)\n",
            " |-- prices.sourceURLs: string (nullable = true)\n",
            " |-- asins: string (nullable = true)\n",
            " |-- brand: string (nullable = true)\n",
            " |-- categories: string (nullable = true)\n",
            " |-- dateAdded: string (nullable = true)\n",
            " |-- dateUpdated: string (nullable = true)\n",
            " |-- ean: string (nullable = true)\n",
            " |-- imageURLs: string (nullable = true)\n",
            " |-- keys: string (nullable = true)\n",
            " |-- manufacturer: string (nullable = true)\n",
            " |-- manufacturerNumber: string (nullable = true)\n",
            " |-- name: string (nullable = true)\n",
            " |-- primaryCategories: string (nullable = true)\n",
            " |-- sourceURLs: string (nullable = true)\n",
            " |-- upc: string (nullable = true)\n",
            " |-- weight: string (nullable = true)\n",
            " |-- _c26: string (nullable = true)\n",
            " |-- _c27: string (nullable = true)\n",
            " |-- _c28: string (nullable = true)\n",
            " |-- _c29: string (nullable = true)\n",
            " |-- _c30: string (nullable = true)\n",
            "\n"
          ],
          "name": "stdout"
        }
      ]
    },
    {
      "cell_type": "code",
      "metadata": {
        "colab": {
          "base_uri": "https://localhost:8080/"
        },
        "id": "ztGvyNyPZ-6J",
        "outputId": "3aec3a03-8829-4072-bb19-615b2fc6dc50"
      },
      "source": [
        "# No of rows present in the dataframe before removing null values\n",
        "df.count()"
      ],
      "execution_count": 109,
      "outputs": [
        {
          "output_type": "execute_result",
          "data": {
            "text/plain": [
              "14592"
            ]
          },
          "metadata": {
            "tags": []
          },
          "execution_count": 109
        }
      ]
    },
    {
      "cell_type": "code",
      "metadata": {
        "colab": {
          "base_uri": "https://localhost:8080/"
        },
        "id": "oEl2oRUcaN2H",
        "outputId": "4a46bed2-c99c-401a-d567-1cc16db18472"
      },
      "source": [
        "# checking the duplicates record in the dataframe\n",
        "df=df.dropDuplicates()\n",
        "df.count()"
      ],
      "execution_count": 110,
      "outputs": [
        {
          "output_type": "execute_result",
          "data": {
            "text/plain": [
              "14579"
            ]
          },
          "metadata": {
            "tags": []
          },
          "execution_count": 110
        }
      ]
    },
    {
      "cell_type": "code",
      "metadata": {
        "id": "RmdLWgFcbC8W"
      },
      "source": [
        "# Renaming the columns\n",
        "df=df.withColumnRenamed(\"prices.amountMax\", \"amountMax\") \\\n",
        "     .withColumnRenamed(\"prices.amountMin\", \"amountMin\") \\\n",
        "     .withColumnRenamed(\"prices.availability\", \"availability\") \\\n",
        "     .withColumnRenamed(\"prices.condition\", \"condition\") \\\n",
        "     .withColumnRenamed(\"prices.currency\", \"currency\") \\\n",
        "     .withColumnRenamed(\"prices.dateSeen\", \"dateSeen\") \\\n",
        "     .withColumnRenamed(\"prices.isSale\", \"isSale\") \\\n",
        "     .withColumnRenamed(\"prices.merchant\", \"merchant\") \\\n",
        "     .withColumnRenamed(\"prices.shipping\", \"shipping\") \\\n",
        "     .withColumnRenamed(\"prices.sourceURLs\", \"source\")"
      ],
      "execution_count": 111,
      "outputs": []
    },
    {
      "cell_type": "code",
      "metadata": {
        "id": "NowRNlI3gS8l"
      },
      "source": [
        "df=df.drop('id','_c26','_c27','_c28','_c29','_c30','ean','keys','manufacturerNumber','shipping','sourceURLs','upc',\n",
        "           'imageURLs','currency')"
      ],
      "execution_count": 112,
      "outputs": []
    },
    {
      "cell_type": "code",
      "metadata": {
        "colab": {
          "base_uri": "https://localhost:8080/"
        },
        "id": "uRm2rzHuanre",
        "outputId": "0f65969c-b671-4d35-ef1c-62bc61d2132a"
      },
      "source": [
        "# checking percentage of missing values in each column\n",
        "total_record=df.count()\n",
        "for col in df.columns:\n",
        "  null_column=(df.filter(df[col].isNull())).count()\n",
        "  percent_null=null_column/total_record\n",
        "  print(col, ' with null values ', percent_null)"
      ],
      "execution_count": 113,
      "outputs": [
        {
          "output_type": "stream",
          "text": [
            "amountMax  with null values  0.0\n",
            "amountMin  with null values  0.0\n",
            "availability  with null values  0.13142190822415803\n",
            "condition  with null values  0.09561698333219014\n",
            "dateSeen  with null values  0.0\n",
            "isSale  with null values  0.0\n",
            "merchant  with null values  0.05219836751491872\n",
            "source  with null values  0.0\n",
            "asins  with null values  0.0\n",
            "brand  with null values  0.0\n",
            "categories  with null values  0.0\n",
            "dateAdded  with null values  0.0\n",
            "dateUpdated  with null values  0.0\n",
            "manufacturer  with null values  0.4780163248508128\n",
            "name  with null values  0.0\n",
            "primaryCategories  with null values  0.0\n",
            "weight  with null values  0.0\n"
          ],
          "name": "stdout"
        }
      ]
    },
    {
      "cell_type": "code",
      "metadata": {
        "colab": {
          "base_uri": "https://localhost:8080/"
        },
        "id": "RfJO5Vffa8dC",
        "outputId": "fdb4a730-74d6-44ec-fbba-cef7dafbf351"
      },
      "source": [
        "missing_column=[]\n",
        "for col in df.columns:\n",
        "  null_column=(df.filter(df[col].isNull())).count()\n",
        "  if null_column>0:\n",
        "    missing_column.append(col)\n",
        "print(missing_column) "
      ],
      "execution_count": 114,
      "outputs": [
        {
          "output_type": "stream",
          "text": [
            "['availability', 'condition', 'merchant', 'manufacturer']\n"
          ],
          "name": "stdout"
        }
      ]
    },
    {
      "cell_type": "code",
      "metadata": {
        "id": "GklJQW97erxh"
      },
      "source": [
        "#removing nulls from the dataframe\n",
        "df2 = df.na.drop()"
      ],
      "execution_count": 115,
      "outputs": []
    },
    {
      "cell_type": "code",
      "metadata": {
        "colab": {
          "base_uri": "https://localhost:8080/"
        },
        "id": "Ua2qpDZChE0_",
        "outputId": "12129ce6-7694-4562-c4a0-6b73e2af05ce"
      },
      "source": [
        "# After dropping the null records checking again the percentage of missing values in each column\n",
        "total_record=df2.count()\n",
        "for col in df2.columns:\n",
        "  null_column=(df2.filter(df2[col].isNull())).count()\n",
        "  percent_null=null_column/total_record\n",
        "  print(col, ' with null values ', percent_null)"
      ],
      "execution_count": 116,
      "outputs": [
        {
          "output_type": "stream",
          "text": [
            "amountMax  with null values  0.0\n",
            "amountMin  with null values  0.0\n",
            "availability  with null values  0.0\n",
            "condition  with null values  0.0\n",
            "dateSeen  with null values  0.0\n",
            "isSale  with null values  0.0\n",
            "merchant  with null values  0.0\n",
            "source  with null values  0.0\n",
            "asins  with null values  0.0\n",
            "brand  with null values  0.0\n",
            "categories  with null values  0.0\n",
            "dateAdded  with null values  0.0\n",
            "dateUpdated  with null values  0.0\n",
            "manufacturer  with null values  0.0\n",
            "name  with null values  0.0\n",
            "primaryCategories  with null values  0.0\n",
            "weight  with null values  0.0\n"
          ],
          "name": "stdout"
        }
      ]
    },
    {
      "cell_type": "code",
      "metadata": {
        "colab": {
          "base_uri": "https://localhost:8080/"
        },
        "id": "BP_ioKR5hREy",
        "outputId": "4c13adbe-c241-47d8-de88-da843629b415"
      },
      "source": [
        "df2.groupBy('brand').count().show()"
      ],
      "execution_count": 117,
      "outputs": [
        {
          "output_type": "stream",
          "text": [
            "+--------------+-----+\n",
            "|         brand|count|\n",
            "+--------------+-----+\n",
            "|          naxa|    9|\n",
            "|       Crosley|    5|\n",
            "|         Denon|   58|\n",
            "|         Thule|    9|\n",
            "|        Papago|   15|\n",
            "| Grace Digital|   33|\n",
            "|        Sunpak|    3|\n",
            "|  Twelve South|    4|\n",
            "|         Razer|   95|\n",
            "|         Onkyo|   78|\n",
            "|          Sima|   10|\n",
            "|Master Dynamic|    5|\n",
            "|           JBL|   60|\n",
            "|    SunbriteTV|    2|\n",
            "|      myCharge|    9|\n",
            "|       TP-Link|   35|\n",
            "|       Kenwood|  141|\n",
            "|           RCA|   12|\n",
            "|         Beats|    4|\n",
            "|      Fujifilm|  119|\n",
            "+--------------+-----+\n",
            "only showing top 20 rows\n",
            "\n"
          ],
          "name": "stdout"
        }
      ]
    },
    {
      "cell_type": "code",
      "metadata": {
        "colab": {
          "base_uri": "https://localhost:8080/"
        },
        "id": "4YReDofxhs5R",
        "outputId": "22f157ae-6876-4880-c3ea-531f98fcb3c1"
      },
      "source": [
        "# descriptive statistics of the amountMax feature\n",
        "df2.select(\"amountMax\").describe().show()"
      ],
      "execution_count": 118,
      "outputs": [
        {
          "output_type": "stream",
          "text": [
            "+-------+-----------------+\n",
            "|summary|        amountMax|\n",
            "+-------+-----------------+\n",
            "|  count|             6164|\n",
            "|   mean| 430.948676184296|\n",
            "| stddev|727.2681814904796|\n",
            "|    min|              1.0|\n",
            "|    max|          6499.99|\n",
            "+-------+-----------------+\n",
            "\n"
          ],
          "name": "stdout"
        }
      ]
    },
    {
      "cell_type": "code",
      "metadata": {
        "colab": {
          "base_uri": "https://localhost:8080/"
        },
        "id": "91GPMH5ZiFd_",
        "outputId": "e3905f7d-0950-4d48-92e5-3adab6b70fa4"
      },
      "source": [
        "df2.select('categories').distinct().show()"
      ],
      "execution_count": 119,
      "outputs": [
        {
          "output_type": "stream",
          "text": [
            "+--------------------+\n",
            "|          categories|\n",
            "+--------------------+\n",
            "|Digital Cameras,C...|\n",
            "|In-Wall & In-Ceil...|\n",
            "|TVs & Electronics...|\n",
            "|Computers,Shop La...|\n",
            "|Computers,Pro Aud...|\n",
            "|Computer Accessor...|\n",
            "|Audio & Video Acc...|\n",
            "|Electronics,Home ...|\n",
            "|Electronics,TV & ...|\n",
            "|Camera & Photo Ac...|\n",
            "|Computers,4K Ultr...|\n",
            "|Bluetooth & Wirel...|\n",
            "|Audio & Video Acc...|\n",
            "|TV, Video & Home ...|\n",
            "|Computers,Externa...|\n",
            "|Car Video,Car Ste...|\n",
            "|Sports & Outdoors...|\n",
            "|Computers,Basic,C...|\n",
            "|Pro Audio,Recordi...|\n",
            "|Computers,Compute...|\n",
            "+--------------------+\n",
            "only showing top 20 rows\n",
            "\n"
          ],
          "name": "stdout"
        }
      ]
    },
    {
      "cell_type": "code",
      "metadata": {
        "colab": {
          "base_uri": "https://localhost:8080/"
        },
        "id": "Hvs7N7RHvHWi",
        "outputId": "1e5d6e6a-c367-4108-bef9-c8cea841abc5"
      },
      "source": [
        "# Splitting a column values\n",
        "import pyspark.sql.functions as f\n",
        "\n",
        "split_criteria = f.split(df2.categories,\",\")\n",
        "df2=df2.withColumn('Category', split_criteria.getItem(0))\n",
        "df2=df2.drop('categories')\n",
        "df2.select('Category').distinct().count()\n"
      ],
      "execution_count": 120,
      "outputs": [
        {
          "output_type": "execute_result",
          "data": {
            "text/plain": [
              "135"
            ]
          },
          "metadata": {
            "tags": []
          },
          "execution_count": 120
        }
      ]
    },
    {
      "cell_type": "code",
      "metadata": {
        "colab": {
          "base_uri": "https://localhost:8080/"
        },
        "id": "ncapFS5NiOWG",
        "outputId": "008565cf-039e-4150-e3fa-e29b233df414"
      },
      "source": [
        "df2.groupBy('brand').count().orderBy('count',ascending=False).show()"
      ],
      "execution_count": 121,
      "outputs": [
        {
          "output_type": "stream",
          "text": [
            "+---------------+-----+\n",
            "|          brand|count|\n",
            "+---------------+-----+\n",
            "|           Sony|  653|\n",
            "|          Apple|  621|\n",
            "|        Samsung|  468|\n",
            "|        Pioneer|  166|\n",
            "|         Yamaha|  150|\n",
            "|        Kenwood|  141|\n",
            "|          Canon|  140|\n",
            "|       Fujifilm|  119|\n",
            "|          Razer|   95|\n",
            "|  Elite Screens|   90|\n",
            "|          Nikon|   83|\n",
            "|          Onkyo|   78|\n",
            "|         Garmin|   76|\n",
            "|       Logitech|   75|\n",
            "|        SanDisk|   70|\n",
            "|House of Marley|   64|\n",
            "|        Lowepro|   63|\n",
            "|            JBL|   60|\n",
            "|        Seagate|   59|\n",
            "|          Denon|   58|\n",
            "+---------------+-----+\n",
            "only showing top 20 rows\n",
            "\n"
          ],
          "name": "stdout"
        }
      ]
    },
    {
      "cell_type": "code",
      "metadata": {
        "colab": {
          "base_uri": "https://localhost:8080/"
        },
        "id": "aSFZl3Mjzikg",
        "outputId": "f90a5b61-c76b-43fb-adcd-8655fe658ccc"
      },
      "source": [
        "df2.groupBy('isSale').count().show()"
      ],
      "execution_count": 122,
      "outputs": [
        {
          "output_type": "stream",
          "text": [
            "+--------------------+-----+\n",
            "|              isSale|count|\n",
            "+--------------------+-----+\n",
            "|               FALSE| 4806|\n",
            "| 3/4\"\" silk dome ...|    1|\n",
            "| Compact-Space Sa...|    1|\n",
            "|                TRUE| 1352|\n",
            "| Depth: 6.5\"\" (16...|    1|\n",
            "| Remote Control I...|    2|\n",
            "|    4 ohms impedance|    1|\n",
            "+--------------------+-----+\n",
            "\n"
          ],
          "name": "stdout"
        }
      ]
    },
    {
      "cell_type": "code",
      "metadata": {
        "colab": {
          "base_uri": "https://localhost:8080/"
        },
        "id": "6RnAhsikz6uq",
        "outputId": "5baae0ec-5fa9-420e-df29-6b5f5f17db94"
      },
      "source": [
        "df2=df2.filter(df2.isSale.isin([\"FALSE\",\"TRUE\"]))\n",
        "df2.groupBy('isSale').count().show()"
      ],
      "execution_count": 123,
      "outputs": [
        {
          "output_type": "stream",
          "text": [
            "+------+-----+\n",
            "|isSale|count|\n",
            "+------+-----+\n",
            "| FALSE| 4806|\n",
            "|  TRUE| 1352|\n",
            "+------+-----+\n",
            "\n"
          ],
          "name": "stdout"
        }
      ]
    },
    {
      "cell_type": "code",
      "metadata": {
        "colab": {
          "base_uri": "https://localhost:8080/"
        },
        "id": "wuzIvTdIia2k",
        "outputId": "e9d753b0-cb2c-4301-9619-aad5c2e0e2e9"
      },
      "source": [
        "! pip install pyspark_dist_explore"
      ],
      "execution_count": 124,
      "outputs": [
        {
          "output_type": "stream",
          "text": [
            "Requirement already satisfied: pyspark_dist_explore in /usr/local/lib/python3.7/dist-packages (0.1.8)\n",
            "Requirement already satisfied: numpy in /usr/local/lib/python3.7/dist-packages (from pyspark_dist_explore) (1.19.5)\n",
            "Requirement already satisfied: scipy in /usr/local/lib/python3.7/dist-packages (from pyspark_dist_explore) (1.4.1)\n",
            "Requirement already satisfied: matplotlib in /usr/local/lib/python3.7/dist-packages (from pyspark_dist_explore) (3.2.2)\n",
            "Requirement already satisfied: pandas in /usr/local/lib/python3.7/dist-packages (from pyspark_dist_explore) (1.1.5)\n",
            "Requirement already satisfied: kiwisolver>=1.0.1 in /usr/local/lib/python3.7/dist-packages (from matplotlib->pyspark_dist_explore) (1.3.1)\n",
            "Requirement already satisfied: pyparsing!=2.0.4,!=2.1.2,!=2.1.6,>=2.0.1 in /usr/local/lib/python3.7/dist-packages (from matplotlib->pyspark_dist_explore) (2.4.7)\n",
            "Requirement already satisfied: cycler>=0.10 in /usr/local/lib/python3.7/dist-packages (from matplotlib->pyspark_dist_explore) (0.10.0)\n",
            "Requirement already satisfied: python-dateutil>=2.1 in /usr/local/lib/python3.7/dist-packages (from matplotlib->pyspark_dist_explore) (2.8.1)\n",
            "Requirement already satisfied: pytz>=2017.2 in /usr/local/lib/python3.7/dist-packages (from pandas->pyspark_dist_explore) (2018.9)\n",
            "Requirement already satisfied: six in /usr/local/lib/python3.7/dist-packages (from cycler>=0.10->matplotlib->pyspark_dist_explore) (1.15.0)\n"
          ],
          "name": "stdout"
        }
      ]
    },
    {
      "cell_type": "code",
      "metadata": {
        "colab": {
          "base_uri": "https://localhost:8080/",
          "height": 279
        },
        "id": "YPktAW9xignc",
        "outputId": "83ac7b20-f314-4052-b1b9-af176025ced6"
      },
      "source": [
        "# histogram for 'amountMax' feature\n",
        "from pyspark_dist_explore import hist\n",
        "import matplotlib.pyplot as plt\n",
        "\n",
        "fig, ax = plt.subplots()\n",
        "hist(ax, df2.select('amountMax'), bins = 20, color=['red'])\n",
        "plt.xlabel('Maximum Amount')\n",
        "plt.ylabel('Percentage')\n",
        "plt.show()"
      ],
      "execution_count": 125,
      "outputs": [
        {
          "output_type": "display_data",
          "data": {
            "image/png": "[encoded data removed]",
            "text/plain": [
              "<Figure size 432x288 with 1 Axes>"
            ]
          },
          "metadata": {
            "tags": [],
            "needs_background": "light"
          }
        }
      ]
    },
    {
      "cell_type": "code",
      "metadata": {
        "colab": {
          "base_uri": "https://localhost:8080/",
          "height": 320
        },
        "id": "cwb_U56eir2b",
        "outputId": "f1a9d1c1-4f1d-402c-b3a4-a623add7a317"
      },
      "source": [
        "import seaborn as sns\n",
        "\n",
        "x=df2.select('amountMax').toPandas()\n",
        "fig=plt.figure(figsize=(10,5))\n",
        "ax=fig.add_subplot(1,2,1)\n",
        "ax=sns.boxplot(data=x)\n",
        "\n",
        "ax=fig.add_subplot(1,2,2)\n",
        "ax=sns.violinplot(data=x)"
      ],
      "execution_count": 126,
      "outputs": [
        {
          "output_type": "display_data",
          "data": {
            "image/png": "[encoded data removed]",
            "text/plain": [
              "<Figure size 720x360 with 2 Axes>"
            ]
          },
          "metadata": {
            "tags": [],
            "needs_background": "light"
          }
        }
      ]
    },
    {
      "cell_type": "code",
      "metadata": {
        "colab": {
          "base_uri": "https://localhost:8080/",
          "height": 264
        },
        "id": "AiSg3MCmjl6i",
        "outputId": "996192d2-39a9-4c51-9f4d-9e0492047da2"
      },
      "source": [
        "df2.select('isSale').toPandas().value_counts().plot.pie(explode=[0,0.1],autopct='%1.1f%%')\n",
        "plt.title('isSale')\n",
        "plt.show()"
      ],
      "execution_count": 127,
      "outputs": [
        {
          "output_type": "display_data",
          "data": {
            "image/png": "[encoded data removed]",
            "text/plain": [
              "<Figure size 432x288 with 1 Axes>"
            ]
          },
          "metadata": {
            "tags": []
          }
        }
      ]
    },
    {
      "cell_type": "code",
      "metadata": {
        "colab": {
          "base_uri": "https://localhost:8080/",
          "height": 312
        },
        "id": "E9NInNTOqlAo",
        "outputId": "61a75cff-6cb3-44c9-8492-d50b3e56f24f"
      },
      "source": [
        "x1=df.toPandas()['amountMax'].values.tolist()\n",
        "y1=df.toPandas()['amountMin'].values.tolist()\n",
        "plt.scatter(x1,y1,color='blue')\n",
        "plt.xlabel('amountMax')\n",
        "plt.ylabel('amountMin')\n",
        "plt.title('Scatter Plot')"
      ],
      "execution_count": 128,
      "outputs": [
        {
          "output_type": "execute_result",
          "data": {
            "text/plain": [
              "Text(0.5, 1.0, 'Scatter Plot')"
            ]
          },
          "metadata": {
            "tags": []
          },
          "execution_count": 128
        },
        {
          "output_type": "display_data",
          "data": {
            "image/png": "[encoded data removed]",
            "text/plain": [
              "<Figure size 432x288 with 1 Axes>"
            ]
          },
          "metadata": {
            "tags": [],
            "needs_background": "light"
          }
        }
      ]
    },
    {
      "cell_type": "code",
      "metadata": {
        "colab": {
          "base_uri": "https://localhost:8080/",
          "height": 329
        },
        "id": "BKLzhU8O2BDL",
        "outputId": "c79ed1d8-d5f2-445f-df43-bd4eb7344537"
      },
      "source": [
        "# grouping category with count\n",
        "Category=df2.groupBy('Category').count().orderBy('count',ascending=False)\n",
        "Category=Category.toPandas()\n",
        "# taking top 5 categories\n",
        "Category=Category[:5]\n",
        "top5=list(Category.Category)\n",
        "print(top5)\n",
        "Category=df2.filter(df2.Category.isin(top5)).toPandas()\n",
        "fig, ax = plt.subplots(figsize=(8, 4))\n",
        "sns.barplot(x='amountMin', y='Category', data=Category).set_title('Category Vs Price')\n",
        "ax.set(xlabel='Price', ylabel='Category')"
      ],
      "execution_count": 129,
      "outputs": [
        {
          "output_type": "stream",
          "text": [
            "['Computers', 'Electronics', 'Stereos', 'Digital Cameras', 'Auto & Tires']\n"
          ],
          "name": "stdout"
        },
        {
          "output_type": "execute_result",
          "data": {
            "text/plain": [
              "[Text(0, 0.5, 'Category'), Text(0.5, 0, 'Price')]"
            ]
          },
          "metadata": {
            "tags": []
          },
          "execution_count": 129
        },
        {
          "output_type": "display_data",
          "data": {
            "image/png": "[encoded data removed]",
            "text/plain": [
              "<Figure size 576x288 with 1 Axes>"
            ]
          },
          "metadata": {
            "tags": [],
            "needs_background": "light"
          }
        }
      ]
    },
    {
      "cell_type": "code",
      "metadata": {
        "colab": {
          "base_uri": "https://localhost:8080/",
          "height": 417
        },
        "id": "4niDQRq85qep",
        "outputId": "9f36195d-7160-47bc-b86d-685c7226c3cb"
      },
      "source": [
        "# grouping category with count\n",
        "Category=df2.groupBy('Category').count().orderBy('count',ascending=False)\n",
        "Category=Category.toPandas()\n",
        "# taking top 5 categories\n",
        "Category=Category[:5]\n",
        "top5=list(Category.Category)\n",
        "print(top5)\n",
        "Category=df2.filter(df2.Category.isin(top5)).toPandas()\n",
        "sns.catplot(x=\"Category\", y=\"amountMin\", hue=\"isSale\", kind=\"bar\", data=Category, aspect=2)"
      ],
      "execution_count": 130,
      "outputs": [
        {
          "output_type": "stream",
          "text": [
            "['Computers', 'Electronics', 'Stereos', 'Digital Cameras', 'Auto & Tires']\n"
          ],
          "name": "stdout"
        },
        {
          "output_type": "execute_result",
          "data": {
            "text/plain": [
              "<seaborn.axisgrid.FacetGrid at 0x7ff13cd667d0>"
            ]
          },
          "metadata": {
            "tags": []
          },
          "execution_count": 130
        },
        {
          "output_type": "display_data",
          "data": {
            "image/png": "[encoded data removed]",
            "text/plain": [
              "<Figure size 785.75x360 with 1 Axes>"
            ]
          },
          "metadata": {
            "tags": [],
            "needs_background": "light"
          }
        }
      ]
    },
    {
      "cell_type": "code",
      "metadata": {
        "colab": {
          "base_uri": "https://localhost:8080/"
        },
        "id": "6rnkQYFUWldk",
        "outputId": "0fcb77bc-ca1c-4fba-ff67-ec0aa1fc47b7"
      },
      "source": [
        "df2.columns"
      ],
      "execution_count": 132,
      "outputs": [
        {
          "output_type": "execute_result",
          "data": {
            "text/plain": [
              "['amountMax',\n",
              " 'amountMin',\n",
              " 'availability',\n",
              " 'condition',\n",
              " 'dateSeen',\n",
              " 'isSale',\n",
              " 'merchant',\n",
              " 'source',\n",
              " 'asins',\n",
              " 'brand',\n",
              " 'dateAdded',\n",
              " 'dateUpdated',\n",
              " 'manufacturer',\n",
              " 'name',\n",
              " 'primaryCategories',\n",
              " 'weight',\n",
              " 'Category']"
            ]
          },
          "metadata": {
            "tags": []
          },
          "execution_count": 132
        }
      ]
    },
    {
      "cell_type": "code",
      "metadata": {
        "id": "Hbwe1x9B7CkI"
      },
      "source": [
        "import pyspark\n",
        "from pyspark.ml import Pipeline\n",
        "from pyspark.ml.feature import StringIndexer, VectorAssembler\n",
        "from pyspark.ml.feature import OneHotEncoder\n",
        "from pyspark.ml.classification import LogisticRegression\n",
        "\n",
        "categoricalColumns = [\"availability\", \"condition\", \"merchant\", \"asins\", \"manufacturer\", \"name\", \"brand\", \"weight\", \"Category\"]\n",
        "stages = [] # stages in Pipeline\n",
        "for categoricalCol in categoricalColumns:\n",
        "    # Category Indexing with StringIndexer\n",
        "    stringIndexer = StringIndexer(inputCol=categoricalCol, outputCol=categoricalCol + \"Index\")\n",
        "    encoder = OneHotEncoder(inputCols=[stringIndexer.getOutputCol()], outputCols=[categoricalCol + \"classVec\"])\n",
        "    stages += [stringIndexer, encoder]\n",
        "\n",
        "label_stringIdx = StringIndexer(inputCol=\"isSale\", outputCol=\"label\")\n",
        "stages += [label_stringIdx]\n",
        "\n",
        "numericCols = [\"amountMax\", \"amountMin\"]\n",
        "assemblerInputs = [c + \"classVec\" for c in categoricalColumns] + numericCols\n",
        "assembler = VectorAssembler(inputCols=assemblerInputs, outputCol=\"features\")\n",
        "stages += [assembler]\n",
        "\n",
        "partialPipeline = Pipeline().setStages(stages)\n",
        "pipelineModel = partialPipeline.fit(df2)\n",
        "preppedDataDF = pipelineModel.transform(df2)\n",
        "\n",
        "# Fit model to prepped data\n",
        "lrModel = LogisticRegression().fit(preppedDataDF)"
      ],
      "execution_count": 134,
      "outputs": []
    },
    {
      "cell_type": "code",
      "metadata": {
        "id": "UPoYm99Gagdo"
      },
      "source": [
        "selectedcols = [\"label\", \"features\"] + df2.columns\n",
        "dataset = preppedDataDF.select(selectedcols)"
      ],
      "execution_count": 135,
      "outputs": []
    },
    {
      "cell_type": "code",
      "metadata": {
        "id": "UY1_ABsIf1St"
      },
      "source": [
        "### Randomly split data into training and test sets. set seed for reproducibility\n",
        "(trainingData, testData) = dataset.randomSplit([0.7, 0.3], seed=100)"
      ],
      "execution_count": 136,
      "outputs": []
    },
    {
      "cell_type": "code",
      "metadata": {
        "id": "6Nq7MUOkf7AU"
      },
      "source": [
        "from pyspark.ml.classification import LogisticRegression\n",
        " \n",
        "# Create initial LogisticRegression model\n",
        "lr = LogisticRegression(labelCol=\"label\", featuresCol=\"features\", maxIter=10)\n",
        " \n",
        "# Train model with Training Data\n",
        "lrModel = lr.fit(trainingData)\n",
        "predictions = lrModel.transform(testData)\n",
        "selected = predictions.select(\"label\", \"prediction\", \"probability\")"
      ],
      "execution_count": 137,
      "outputs": []
    },
    {
      "cell_type": "code",
      "metadata": {
        "colab": {
          "base_uri": "https://localhost:8080/"
        },
        "id": "C6djm12YgR27",
        "outputId": "9781c603-31f3-4f1f-905f-023ebc87b24c"
      },
      "source": [
        "from pyspark.ml.evaluation import BinaryClassificationEvaluator\n",
        " \n",
        "# Evaluate model\n",
        "evaluator = BinaryClassificationEvaluator()\n",
        "print(\"Test AUC\", evaluator.evaluate(predictions))"
      ],
      "execution_count": 138,
      "outputs": [
        {
          "output_type": "stream",
          "text": [
            "Test AUC 0.7728501087827784\n"
          ],
          "name": "stdout"
        }
      ]
    },
    {
      "cell_type": "code",
      "metadata": {
        "id": "VVAEwMfiguEA"
      },
      "source": [
        ""
      ],
      "execution_count": null,
      "outputs": []
    }
  ]
}